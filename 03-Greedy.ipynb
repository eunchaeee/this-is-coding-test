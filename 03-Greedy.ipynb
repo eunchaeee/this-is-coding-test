{
 "cells": [
  {
   "cell_type": "markdown",
   "metadata": {},
   "source": [
    "# 1. 당장 좋은 것만 선택하는 그리디"
   ]
  },
  {
   "cell_type": "markdown",
   "metadata": {},
   "source": [
    "### 예제 3-1 거스름돈"
   ]
  },
  {
   "cell_type": "code",
   "execution_count": 2,
   "metadata": {},
   "outputs": [
    {
     "name": "stdout",
     "output_type": "stream",
     "text": [
      "6\n"
     ]
    }
   ],
   "source": [
    "n = 1260\n",
    "count = 0\n",
    "\n",
    "# 큰 단위의 화폐부터 차례대로 확인\n",
    "coin_types = [500, 100, 50, 10]\n",
    "\n",
    "for coin in coin_types:\n",
    "    count += n//coin\n",
    "    n %= coin\n",
    "    \n",
    "print(count)"
   ]
  },
  {
   "cell_type": "markdown",
   "metadata": {},
   "source": [
    "# 2. 큰 수의 법칙"
   ]
  },
  {
   "cell_type": "markdown",
   "metadata": {},
   "source": [
    "#### 단순하게 푸는 답안 예시"
   ]
  },
  {
   "cell_type": "code",
   "execution_count": 4,
   "metadata": {},
   "outputs": [
    {
     "name": "stdin",
     "output_type": "stream",
     "text": [
      " 5 8 3\n",
      " 2 4 5 4 6\n"
     ]
    },
    {
     "name": "stdout",
     "output_type": "stream",
     "text": [
      "46\n"
     ]
    }
   ],
   "source": [
    "# N, M, K를 공백으로 구분하여 입력받기\n",
    "n, m, k = map(int, input().split())\n",
    "\n",
    "# N개의 수를 공백으로 구분하여 입력받기\n",
    "data = list(map(int, input().split()))\n",
    "\n",
    "data.sort() # 입력받은 수들 정렬하기\n",
    "first = data[n-1]\n",
    "second = data[n-2]\n",
    "\n",
    "result = 0\n",
    "\n",
    "while True:\n",
    "    for i in range(k):  # 가장 큰 수를 K번 더하기\n",
    "        result += first\n",
    "        m -= 1 # 더할 때마다 1씩 빼기\n",
    "        if m==0:\n",
    "            break\n",
    "    result += second\n",
    "    m -= 1\n",
    "    if m==0:\n",
    "        break;\n",
    "\n",
    "print(result)"
   ]
  },
  {
   "cell_type": "markdown",
   "metadata": {},
   "source": [
    "#### 효율적으로 풀기"
   ]
  },
  {
   "cell_type": "code",
   "execution_count": 5,
   "metadata": {},
   "outputs": [
    {
     "name": "stdin",
     "output_type": "stream",
     "text": [
      " 5 8 3\n",
      " 2 4 5 4 6\n"
     ]
    },
    {
     "name": "stdout",
     "output_type": "stream",
     "text": [
      "46\n"
     ]
    }
   ],
   "source": [
    "n, m, k = map(int, input().split())\n",
    "data = list(map(int, input().split()))\n",
    "\n",
    "data.sort()\n",
    "first = data[n-1]\n",
    "second = data[n-2]\n",
    "\n",
    "result = (first*k+second)*(m//(k+1)) + first*(m%(k+1))\n",
    "\n",
    "print(result)"
   ]
  },
  {
   "cell_type": "markdown",
   "metadata": {},
   "source": [
    "# 3. 숫자 카드 게임"
   ]
  },
  {
   "cell_type": "markdown",
   "metadata": {},
   "source": [
    "#### 나의 풀이"
   ]
  },
  {
   "cell_type": "code",
   "execution_count": 7,
   "metadata": {},
   "outputs": [
    {
     "name": "stdin",
     "output_type": "stream",
     "text": [
      " 2 4\n",
      " 7 3 1 8\n",
      " 3 3 3 4\n"
     ]
    },
    {
     "name": "stdout",
     "output_type": "stream",
     "text": [
      "3\n"
     ]
    }
   ],
   "source": [
    "N, M = map(int, input().split())\n",
    "cards = []\n",
    "for i in range(N):\n",
    "    cards.append(list(map(int, input().split())))\n",
    "\n",
    "mins = []\n",
    "for row in cards:\n",
    "    mins.append(min(row))\n",
    "    \n",
    "print(max(mins))"
   ]
  },
  {
   "cell_type": "markdown",
   "metadata": {},
   "source": [
    "#### min() 함수를 이용하는 답안 예시"
   ]
  },
  {
   "cell_type": "code",
   "execution_count": 14,
   "metadata": {},
   "outputs": [
    {
     "name": "stdin",
     "output_type": "stream",
     "text": [
      " 3 3\n",
      " 3 1 2\n",
      " 4 1 4\n",
      " 2 2 2 \n"
     ]
    },
    {
     "name": "stdout",
     "output_type": "stream",
     "text": [
      "2\n"
     ]
    }
   ],
   "source": [
    "# N, M을 공백으로 구분하여 입력받기\n",
    "n, m = map(int, input().split())\n",
    "\n",
    "result = 0\n",
    "\n",
    "# 한 줄씩 입력받아 확인\n",
    "for i in range(n):\n",
    "    data = list(map(int, input().split()))\n",
    "    # 현재 줄에서 '가장 작은 수' 찾기\n",
    "    min_value = min(data)\n",
    "    # '가장 작은 수'들 중에서 가장 큰 수 찾기\n",
    "    result = max(result, min_value)\n",
    "    \n",
    "print(result) # 최종 답안 출력"
   ]
  },
  {
   "cell_type": "markdown",
   "metadata": {},
   "source": [
    "#### 2중 반복문 구조를 이용하는 답안 예시"
   ]
  },
  {
   "cell_type": "code",
   "execution_count": 16,
   "metadata": {},
   "outputs": [
    {
     "name": "stdin",
     "output_type": "stream",
     "text": [
      " 2 4\n",
      " 7 3 1 8\n",
      " 3 3 3 4\n"
     ]
    },
    {
     "name": "stdout",
     "output_type": "stream",
     "text": [
      "3\n"
     ]
    }
   ],
   "source": [
    "# N, M을 공백으로 구분하여 입력받기\n",
    "n, m = map(int, input().split())\n",
    "\n",
    "result = 0\n",
    "\n",
    "# 한 줄씩 입력받아 확인\n",
    "for i in range(n):\n",
    "    data = list(map(int, input().split()))\n",
    "    # 현재 줄에서 '가장 작은 수' 찾기\n",
    "    min_value = 10001\n",
    "    for a in data:\n",
    "        min_value = min(min_value, a)\n",
    "    # '가장 작은 수'들 중에서 가장 큰 수 찾기\n",
    "    result = max(result, min_value)\n",
    "    \n",
    "print(result) # 최종 답안 출력"
   ]
  },
  {
   "cell_type": "markdown",
   "metadata": {},
   "source": [
    "# 1이 될 때까지"
   ]
  },
  {
   "cell_type": "code",
   "execution_count": 22,
   "metadata": {},
   "outputs": [
    {
     "name": "stdin",
     "output_type": "stream",
     "text": [
      " 27 3\n"
     ]
    },
    {
     "name": "stdout",
     "output_type": "stream",
     "text": [
      "3\n"
     ]
    }
   ],
   "source": [
    "n, k = map(int, input().split())\n",
    "cnt = 0\n",
    "while n!=1:\n",
    "    if (n%k==0):\n",
    "        n//=k\n",
    "    else:\n",
    "        n-=1\n",
    "    cnt+=1\n",
    "        \n",
    "print(cnt)"
   ]
  },
  {
   "cell_type": "code",
   "execution_count": null,
   "metadata": {},
   "outputs": [],
   "source": []
  }
 ],
 "metadata": {
  "kernelspec": {
   "display_name": "Python 3",
   "language": "python",
   "name": "python3"
  },
  "language_info": {
   "codemirror_mode": {
    "name": "ipython",
    "version": 3
   },
   "file_extension": ".py",
   "mimetype": "text/x-python",
   "name": "python",
   "nbconvert_exporter": "python",
   "pygments_lexer": "ipython3",
   "version": "3.8.5"
  }
 },
 "nbformat": 4,
 "nbformat_minor": 4
}
