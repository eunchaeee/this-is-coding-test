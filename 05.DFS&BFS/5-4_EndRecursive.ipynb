{
 "cells": [
  {
   "cell_type": "markdown",
   "id": "0bea7284-fb71-4468-9bf3-85d58e759cf9",
   "metadata": {},
   "source": [
    "## 재귀함수의 수행 = Stack"
   ]
  },
  {
   "cell_type": "code",
   "execution_count": 3,
   "id": "89f1a816-02cf-496e-b754-8e301aae5ea9",
   "metadata": {},
   "outputs": [
    {
     "name": "stdout",
     "output_type": "stream",
     "text": [
      "1 번째 재귀 함수에서 2 번째 재귀함수를 호출합니다\n",
      "2 번째 재귀 함수에서 3 번째 재귀함수를 호출합니다\n",
      "3 번째 재귀 함수에서 4 번째 재귀함수를 호출합니다\n",
      "4 번째 재귀 함수에서 5 번째 재귀함수를 호출합니다\n",
      "5 번째 재귀 함수에서 6 번째 재귀함수를 호출합니다\n",
      "6 번째 재귀 함수에서 7 번째 재귀함수를 호출합니다\n",
      "7 번째 재귀 함수에서 8 번째 재귀함수를 호출합니다\n",
      "8 번째 재귀 함수에서 9 번째 재귀함수를 호출합니다\n",
      "9 번째 재귀 함수에서 10 번째 재귀함수를 호출합니다\n",
      "9 번째 재귀 함수를 종료합니다.\n",
      "8 번째 재귀 함수를 종료합니다.\n",
      "7 번째 재귀 함수를 종료합니다.\n",
      "6 번째 재귀 함수를 종료합니다.\n",
      "5 번째 재귀 함수를 종료합니다.\n",
      "4 번째 재귀 함수를 종료합니다.\n",
      "3 번째 재귀 함수를 종료합니다.\n",
      "2 번째 재귀 함수를 종료합니다.\n",
      "1 번째 재귀 함수를 종료합니다.\n"
     ]
    }
   ],
   "source": [
    "def recursive_function(i):\n",
    "    # 100 번째 출력했을 때 종료되도록 종료 조건 명시\n",
    "    if i == 10:\n",
    "        return\n",
    "    print(i, '번째 재귀 함수에서', i+1, '번째 재귀함수를 호출합니다')\n",
    "    recursive_function(i+1)\n",
    "    print(i, '번째 재귀 함수를 종료합니다.')\n",
    "\n",
    "recursive_function(1)"
   ]
  },
  {
   "cell_type": "code",
   "execution_count": null,
   "id": "bdbf432d-1ecb-4c94-862f-7dfa3fc91f97",
   "metadata": {},
   "outputs": [],
   "source": []
  }
 ],
 "metadata": {
  "kernelspec": {
   "display_name": "Python 3 (ipykernel)",
   "language": "python",
   "name": "python3"
  },
  "language_info": {
   "codemirror_mode": {
    "name": "ipython",
    "version": 3
   },
   "file_extension": ".py",
   "mimetype": "text/x-python",
   "name": "python",
   "nbconvert_exporter": "python",
   "pygments_lexer": "ipython3",
   "version": "3.12.3"
  }
 },
 "nbformat": 4,
 "nbformat_minor": 5
}
