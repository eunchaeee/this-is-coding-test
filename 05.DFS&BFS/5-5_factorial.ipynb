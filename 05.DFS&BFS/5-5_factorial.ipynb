{
 "cells": [
  {
   "cell_type": "code",
   "execution_count": 2,
   "id": "5a2711d3-ab18-48bb-a26b-36357c789eba",
   "metadata": {},
   "outputs": [
    {
     "name": "stdout",
     "output_type": "stream",
     "text": [
      "반복적으로 구현 : 120\n",
      "재귀적으로 구현 : 120\n"
     ]
    }
   ],
   "source": [
    "# 반복적으로 구현한 n!\n",
    "def factorial_iterative(n):\n",
    "    result = 1\n",
    "    # 1부터 n까지의 수를 차례대로 곱하기\n",
    "    for i in range(1, n+1):\n",
    "        result *= i\n",
    "    return result\n",
    "\n",
    "#재귀적으로 구현한 n!\n",
    "def factorial_recursive(n):\n",
    "    if n <= 1: # n이 1 이하인 경우 1을 반환\n",
    "        return 1\n",
    "    # n! = n * (n-1)! 를 그대로 코드로 작성하기\n",
    "    return n * factorial_recursive(n-1)\n",
    "\n",
    "# 각각의 방식으로 구현한 n! 출력 (n = 5)\n",
    "print('반복적으로 구현 :', factorial_iterative(5))\n",
    "print('재귀적으로 구현 :', factorial_recursive(5))   "
   ]
  },
  {
   "cell_type": "markdown",
   "id": "2697dd74-3136-48a8-90ad-57593cab48e3",
   "metadata": {},
   "source": [
    "### 재귀 함수의 코드가 더 간결하다.(like 점화식)"
   ]
  },
  {
   "cell_type": "code",
   "execution_count": null,
   "id": "d1956159-1006-4ea0-845e-c333b808f0ea",
   "metadata": {},
   "outputs": [],
   "source": []
  }
 ],
 "metadata": {
  "kernelspec": {
   "display_name": "Python 3 (ipykernel)",
   "language": "python",
   "name": "python3"
  },
  "language_info": {
   "codemirror_mode": {
    "name": "ipython",
    "version": 3
   },
   "file_extension": ".py",
   "mimetype": "text/x-python",
   "name": "python",
   "nbconvert_exporter": "python",
   "pygments_lexer": "ipython3",
   "version": "3.12.3"
  }
 },
 "nbformat": 4,
 "nbformat_minor": 5
}
